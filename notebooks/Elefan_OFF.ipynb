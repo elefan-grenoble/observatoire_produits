{
 "cells": [
  {
   "cell_type": "code",
   "execution_count": 1,
   "id": "5b31f6a8",
   "metadata": {},
   "outputs": [],
   "source": [
    "import os\n",
    "import time\n",
    "import requests\n",
    "\n",
    "ELEFAN_PRODUCT_API_URL = os.environ.get(\"API_URL\")\n",
    "OFF_API_URL = \"https://fr.openfoodfacts.org/api/v2/product\"\n",
    "\n",
    "ELEFAN_FOOD_FAMILLE_CODE_TO_EXCLUDE = [\n",
    "    21,  # bebe (inclus nourriture...)\n",
    "    22,  # hygiène, beauté\n",
    "    23,  # entretien, nettoyage\n",
    "    24,  # cuisine\n",
    "    25,  # santé\n",
    "    31,  # journaux\n",
    "    41,  # maison\n",
    "    42,  # papeterie\n",
    "    43,  # textile\n",
    "    44,  # animalerie\n",
    "    45,  # jardinerie\n",
    "    90,  # jeux\n",
    "]"
   ]
  },
  {
   "cell_type": "code",
   "execution_count": 4,
   "id": "36f8d571",
   "metadata": {},
   "outputs": [
    {
     "name": "stdout",
     "output_type": "stream",
     "text": [
      "Elefan Grenoble\n",
      "Nombre d'articles (dans KASO) : 2106\n",
      "Nombre d'articles actifs (status = ACTIF dans KASO) : 1456\n",
      "Nombre d'articles actifs avec un code-barres EAN (8 ou 13 chiffres) : 1124\n",
      "Nombre d'articles actifs avec un code-barres EAN et filtrés (catégories) : 758\n"
     ]
    }
   ],
   "source": [
    "\"\"\"\n",
    "Récupérer les produits depuis Elefan (via l'API)\n",
    "\"\"\"\n",
    "print(\"Elefan Grenoble\")\n",
    "elefan_product_list = list()\n",
    "\n",
    "response = requests.get(ELEFAN_PRODUCT_API_URL)\n",
    "elefan_product_list = response.json()\n",
    "print(\"Nombre d'articles (dans KASO) :\", len(elefan_product_list))\n",
    "# print(elefan_product_list[0])\n",
    "\n",
    "elefan_product_actifs_list = [p for p in elefan_product_list if p['status'] == 'ACTIF']\n",
    "print(\"Nombre d'articles actifs (status = ACTIF dans KASO) :\", len(elefan_product_actifs_list))\n",
    "\n",
    "elefan_product_actifs_ean_list = [p for p in elefan_product_actifs_list if (len(str(p['code'])) in [8, 13])]\n",
    "print(\"Nombre d'articles actifs avec un code-barres EAN (8 ou 13 chiffres) :\", len(elefan_product_actifs_ean_list))\n",
    "\n",
    "elefan_product_actifs_ean_filtered_list = [p for p in elefan_product_actifs_ean_list if p['famille']['code'] not in ELEFAN_FOOD_FAMILLE_CODE_TO_EXCLUDE]\n",
    "print(\"Nombre d'articles actifs avec un code-barres EAN et filtrés (catégories) :\", len(elefan_product_actifs_ean_filtered_list))"
   ]
  },
  {
   "cell_type": "code",
   "execution_count": 5,
   "id": "30d09922",
   "metadata": {},
   "outputs": [
    {
     "name": "stdout",
     "output_type": "stream",
     "text": [
      "Lien avec OFF (pour les 758 articles filtrés)\n",
      "progress: 0...\n",
      "progress: 100...\n",
      "progress: 200...\n",
      "progress: 300...\n",
      "progress: 400...\n",
      "progress: 500...\n",
      "progress: 600...\n",
      "progress: 700...\n",
      "Trouvés 529 / 758\n"
     ]
    }
   ],
   "source": [
    "print(f\"Lien avec OFF (pour les {len(elefan_product_actifs_ean_filtered_list)} articles filtrés)\")\n",
    "found = 0\n",
    "\n",
    "for index, elefan_product in enumerate(elefan_product_actifs_ean_filtered_list):\n",
    "    response = requests.get(f\"{OFF_API_URL}/{elefan_product['code']}.json\")\n",
    "    if response.status_code == 200:\n",
    "        found += 1\n",
    "        elefan_product_actifs_ean_filtered_list[index]['OFF'] = response.json()\n",
    "    if (index % 10) == 0:\n",
    "        time.sleep(1)\n",
    "    if (index % 100) == 0:\n",
    "        print(f\"progress: {index}...\")\n",
    "\n",
    "print(\"Trouvés\", found, \"/\", len(elefan_product_actifs_ean_filtered_list))"
   ]
  },
  {
   "cell_type": "code",
   "execution_count": 7,
   "id": "e6c64433",
   "metadata": {},
   "outputs": [
    {
     "name": "stdout",
     "output_type": "stream",
     "text": [
      "Sur les 529 produits trouvés dans OFF...\n",
      "Avec product_name : 523\n",
      "Avec quantity : 374\n",
      "Avec image_url : 512\n",
      "Avec categories : 429\n",
      "Avec brands : 443\n",
      "Avec labels : 432\n",
      "Avec origins : 151\n",
      "Avec packaging : 254\n",
      "nutriscore_grade : Counter({'unknown': 164, 'd': 85, 'a': 81, 'c': 70, 'b': 48, 'e': 46, 'not-applicable': 34})\n",
      "ecoscore_grade : Counter({'unknown': 201, 'b': 124, 'c': 76, 'a': 71, 'd': 35, 'e': 17, 'not-applicable': 5})\n",
      "nova_groups_tags : Counter({'unknown': 218, 'en:3-processed-foods': 143, 'en:4-ultra-processed-food-and-drink-products': 94, 'en:1-unprocessed-or-minimally-processed-foods': 60, 'en:2-processed-culinary-ingredients': 14})\n"
     ]
    }
   ],
   "source": [
    "from collections import Counter\n",
    "\n",
    "elefan_product_actifs_ean_filtered_off_list = [p for p in elefan_product_actifs_ean_filtered_list if 'OFF' in p]\n",
    "print(f\"Sur les {len(elefan_product_actifs_ean_filtered_off_list)} produits trouvés dans OFF...\")\n",
    "\n",
    "for key in [\"product_name\", \"quantity\", \"image_url\", \"categories\", \"brands\", \"labels\", \"origins\", \"packaging\"]:\n",
    "    print(f\"Avec {key} :\", len([p for p in elefan_product_actifs_ean_filtered_off_list if (key in p['OFF']['product'] and p['OFF']['product'][key])]))\n",
    "\n",
    "for key in [\"nutriscore_grade\", \"ecoscore_grade\"]:\n",
    "    key_list = list()\n",
    "    for p in elefan_product_actifs_ean_filtered_off_list:\n",
    "        if key in p['OFF']['product']:\n",
    "            key_list.append(p['OFF']['product'][key])\n",
    "    print(f\"{key} :\", Counter(key_list))\n",
    "\n",
    "for key in [\"nova_groups_tags\"]:  # always length 1\n",
    "    key_list = list()\n",
    "    for p in elefan_product_actifs_ean_filtered_off_list:\n",
    "        if key in p['OFF']['product']:\n",
    "            key_list.extend(p['OFF']['product'][key])\n",
    "    print(f\"{key} :\", Counter(key_list))"
   ]
  },
  {
   "cell_type": "code",
   "execution_count": null,
   "id": "e8c9ae63",
   "metadata": {},
   "outputs": [],
   "source": []
  }
 ],
 "metadata": {
  "kernelspec": {
   "display_name": "Python 3 (ipykernel)",
   "language": "python",
   "name": "python3"
  },
  "language_info": {
   "codemirror_mode": {
    "name": "ipython",
    "version": 3
   },
   "file_extension": ".py",
   "mimetype": "text/x-python",
   "name": "python",
   "nbconvert_exporter": "python",
   "pygments_lexer": "ipython3",
   "version": "3.10.12"
  }
 },
 "nbformat": 4,
 "nbformat_minor": 5
}
