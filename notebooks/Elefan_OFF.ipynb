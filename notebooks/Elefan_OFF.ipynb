{
 "cells": [
  {
   "cell_type": "code",
   "execution_count": null,
   "id": "5b31f6a8",
   "metadata": {},
   "outputs": [],
   "source": [
    "import os\n",
    "import time\n",
    "import requests\n",
    "\n",
    "ELEFAN_PRODUCT_API_URL = os.environ.get(\"API_URL\")\n",
    "OFF_API_URL = \"https://fr.openfoodfacts.org/api/v2/product\"\n",
    "OFF_API_UPDATE_URL = \"https://world.openfoodfacts.org/cgi/product_jqm2.pl\"\n",
    "OFF_KEY = \"OFF\"\n",
    "\n",
    "ELEFAN_FAMILLE_CODE_TO_EXCLUDE = [\n",
    "    21,  # bebe (inclus nourriture...)\n",
    "    22,  # hygiène, beauté\n",
    "    23,  # entretien, nettoyage\n",
    "    24,  # cuisine\n",
    "    25,  # santé\n",
    "    31,  # journaux\n",
    "    41,  # maison\n",
    "    42,  # papeterie\n",
    "    43,  # textile\n",
    "    44,  # animalerie\n",
    "    45,  # jardinerie\n",
    "    90,  # jeux\n",
    "]"
   ]
  },
  {
   "cell_type": "code",
   "execution_count": null,
   "id": "36f8d571",
   "metadata": {},
   "outputs": [],
   "source": [
    "\"\"\"\n",
    "Récupérer les produits depuis Elefan (via l'API)\n",
    "\"\"\"\n",
    "print(\"Elefan Grenoble\")\n",
    "elefan_product_list = list()\n",
    "\n",
    "response = requests.get(ELEFAN_PRODUCT_API_URL)\n",
    "elefan_product_list = response.json()\n",
    "print(\"Nombre d'articles (dans KASO) :\", len(elefan_product_list))\n",
    "# print(elefan_product_list[0])\n",
    "\n",
    "elefan_product_actifs_list = [p for p in elefan_product_list if p['status'] == 'ACTIF']\n",
    "print(\"Nombre d'articles actifs (status = ACTIF dans KASO) :\", len(elefan_product_actifs_list))\n",
    "\n",
    "elefan_product_actifs_ean_list = [p for p in elefan_product_actifs_list if (len(str(p['code'])) in [8, 13])]\n",
    "print(\"Nombre d'articles actifs avec un code-barres EAN (8 ou 13 chiffres) :\", len(elefan_product_actifs_ean_list))\n",
    "\n",
    "elefan_product_actifs_ean_filtered_list = [p for p in elefan_product_actifs_ean_list if p['famille']['code'] not in ELEFAN_FAMILLE_CODE_TO_EXCLUDE]\n",
    "print(\"Nombre d'articles actifs avec un code-barres EAN et filtrés (catégories) :\", len(elefan_product_actifs_ean_filtered_list))"
   ]
  },
  {
   "cell_type": "code",
   "execution_count": null,
   "id": "30d09922",
   "metadata": {},
   "outputs": [],
   "source": [
    "print(f\"Lien avec {OFF_KEY} (pour les {len(elefan_product_actifs_ean_filtered_list)} articles filtrés)\")\n",
    "found = 0\n",
    "\n",
    "for index, elefan_product in enumerate(elefan_product_actifs_ean_filtered_list):\n",
    "    response = requests.get(f\"{OFF_API_URL}/{elefan_product['code']}.json\")\n",
    "    if response.status_code == 200:\n",
    "        found += 1\n",
    "        elefan_product_actifs_ean_filtered_list[index][OFF_KEY] = response.json()\n",
    "    if (index % 10) == 0:\n",
    "        time.sleep(1)\n",
    "    if (index % 100) == 0:\n",
    "        print(f\"progress: {index}...\")\n",
    "\n",
    "print(\"Trouvés\", found, \"/\", len(elefan_product_actifs_ean_filtered_list))"
   ]
  },
  {
   "cell_type": "code",
   "execution_count": null,
   "id": "e6c64433",
   "metadata": {},
   "outputs": [],
   "source": [
    "from collections import Counter\n",
    "\n",
    "elefan_product_actifs_ean_filtered_found_list = [p for p in elefan_product_actifs_ean_filtered_list if OFF_KEY in p]\n",
    "print(f\"Sur les {len(elefan_product_actifs_ean_filtered_found_list)} produits trouvés dans {OFF_KEY}...\")\n",
    "\n",
    "for key in [\"product_name\", \"quantity\", \"image_url\", \"categories\", \"brands\", \"labels\", \"origins\", \"packaging\", \"stores\"]:\n",
    "    print(f\"Avec {key} :\", len([p for p in elefan_product_actifs_ean_filtered_found_list if (key in p[OFF_KEY]['product'] and p[OFF_KEY]['product'][key])]))\n",
    "\n",
    "for key in [\"nutriscore_grade\", \"ecoscore_grade\"]:\n",
    "    key_list = list()\n",
    "    for p in elefan_product_actifs_ean_filtered_found_list:\n",
    "        if key in p['OFF']['product']:\n",
    "            key_list.append(p[OFF_KEY]['product'][key])\n",
    "    print(f\"{key} :\", Counter(key_list))\n",
    "\n",
    "for key in [\"nova_groups_tags\"]:  # always length 1\n",
    "    key_list = list()\n",
    "    for p in elefan_product_actifs_ean_filtered_found_list:\n",
    "        if key in p['OFF']['product']:\n",
    "            key_list.extend(p[OFF_KEY]['product'][key])\n",
    "    print(f\"{key} :\", Counter(key_list))"
   ]
  },
  {
   "cell_type": "code",
   "execution_count": null,
   "id": "e8c9ae63",
   "metadata": {},
   "outputs": [],
   "source": [
    "# Send store information\n",
    "print(len(elefan_product_actifs_ean_filtered_found_list))\n",
    "\n",
    "for index, product in enumerate(elefan_product_actifs_ean_filtered_found_list):\n",
    "    STORE_ELEFAN = \"L'Éléfàn\"\n",
    "    COUNTRY_FRANCE = \"France\"\n",
    "    OFF_USERNAME = os.environ.get(\"OFF_USERNAME\")\n",
    "    OFF_PASSWORD = os.environ.get(\"OFF_PASSWORD\")\n",
    "    response = requests.get(f\"{OFF_API_UPDATE_URL}?code={product['code']}&add_stores={STORE_ELEFAN}&add_countries={COUNTRY_FRANCE}&user_id={OFF_USERNAME}&password={OFF_PASSWORD}\")\n",
    "    print(product['code'], response.json())\n",
    "    if (index % 10) == 0:\n",
    "        time.sleep(1)\n",
    "    if (index % 100) == 0:\n",
    "        print(f\"progress: {index}...\")"
   ]
  },
  {
   "cell_type": "code",
   "execution_count": null,
   "id": "33d6ab0f",
   "metadata": {},
   "outputs": [],
   "source": []
  }
 ],
 "metadata": {
  "kernelspec": {
   "display_name": "Python 3 (ipykernel)",
   "language": "python",
   "name": "python3"
  },
  "language_info": {
   "codemirror_mode": {
    "name": "ipython",
    "version": 3
   },
   "file_extension": ".py",
   "mimetype": "text/x-python",
   "name": "python",
   "nbconvert_exporter": "python",
   "pygments_lexer": "ipython3",
   "version": "3.10.12"
  }
 },
 "nbformat": 4,
 "nbformat_minor": 5
}
