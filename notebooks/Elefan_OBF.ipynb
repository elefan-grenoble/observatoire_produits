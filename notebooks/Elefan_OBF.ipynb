{
 "cells": [
  {
   "cell_type": "code",
   "execution_count": 2,
   "id": "76f0590d",
   "metadata": {},
   "outputs": [],
   "source": [
    "import os\n",
    "import time\n",
    "import requests\n",
    "\n",
    "ELEFAN_PRODUCT_API_URL = os.environ.get(\"API_URL\")\n",
    "OBF_API_URL = \"https://fr.openbeautyfacts.org/api/v2/product\"\n",
    "\n",
    "ELEFAN_HYGIENE_FAMILLE_CODE_TO_INCLUDE = [\n",
    "    21,  # bebe (inclus nourriture...)\n",
    "    22,  # hygiène, beauté\n",
    "    25,  # santé\n",
    "]"
   ]
  },
  {
   "cell_type": "code",
   "execution_count": 4,
   "id": "47150904",
   "metadata": {},
   "outputs": [
    {
     "name": "stdout",
     "output_type": "stream",
     "text": [
      "Elefan Grenoble\n",
      "Nombre d'articles (dans KASO) : 2106\n",
      "Nombre d'articles actifs (status = ACTIF dans KASO) : 1456\n",
      "Nombre d'articles actifs avec un code-barres EAN (8 ou 13 chiffres) : 1124\n",
      "Nombre d'articles actifs avec un code-barres EAN et filtrés (catégories) : 137\n"
     ]
    }
   ],
   "source": [
    "\"\"\"\n",
    "Récupérer les produits depuis Elefan (via l'API)\n",
    "\"\"\"\n",
    "print(\"Elefan Grenoble\")\n",
    "elefan_product_list = list()\n",
    "\n",
    "response = requests.get(ELEFAN_PRODUCT_API_URL)\n",
    "elefan_product_list = response.json()\n",
    "print(\"Nombre d'articles (dans KASO) :\", len(elefan_product_list))\n",
    "# print(elefan_product_list[0])\n",
    "\n",
    "elefan_product_actifs_list = [p for p in elefan_product_list if p['status'] == 'ACTIF']\n",
    "print(\"Nombre d'articles actifs (status = ACTIF dans KASO) :\", len(elefan_product_actifs_list))\n",
    "\n",
    "elefan_product_actifs_ean_list = [p for p in elefan_product_actifs_list if (len(str(p['code'])) in [8, 13])]\n",
    "print(\"Nombre d'articles actifs avec un code-barres EAN (8 ou 13 chiffres) :\", len(elefan_product_actifs_ean_list))\n",
    "\n",
    "elefan_product_actifs_ean_filtered_list = [p for p in elefan_product_actifs_ean_list if p['famille']['code'] in ELEFAN_HYGIENE_FAMILLE_CODE_TO_INCLUDE]\n",
    "print(\"Nombre d'articles actifs avec un code-barres EAN et filtrés (catégories) :\", len(elefan_product_actifs_ean_filtered_list))"
   ]
  },
  {
   "cell_type": "code",
   "execution_count": 5,
   "id": "0e1838e1",
   "metadata": {},
   "outputs": [
    {
     "name": "stdout",
     "output_type": "stream",
     "text": [
      "Lien avec OBF (pour les 137 articles filtrés)\n"
     ]
    },
    {
     "ename": "NameError",
     "evalue": "name 'elefan_product' is not defined",
     "output_type": "error",
     "traceback": [
      "\u001b[0;31m---------------------------------------------------------------------------\u001b[0m",
      "\u001b[0;31mNameError\u001b[0m                                 Traceback (most recent call last)",
      "\u001b[0;32m/tmp/ipykernel_153321/3680260766.py\u001b[0m in \u001b[0;36m<module>\u001b[0;34m\u001b[0m\n\u001b[1;32m      3\u001b[0m \u001b[0mfound\u001b[0m \u001b[0;34m=\u001b[0m \u001b[0;36m0\u001b[0m\u001b[0;34m\u001b[0m\u001b[0;34m\u001b[0m\u001b[0m\n\u001b[1;32m      4\u001b[0m \u001b[0;32mfor\u001b[0m \u001b[0mindex\u001b[0m\u001b[0;34m,\u001b[0m \u001b[0melefan_hygiene_product\u001b[0m \u001b[0;32min\u001b[0m \u001b[0menumerate\u001b[0m\u001b[0;34m(\u001b[0m\u001b[0melefan_product_actifs_ean_filtered_list\u001b[0m\u001b[0;34m)\u001b[0m\u001b[0;34m:\u001b[0m\u001b[0;34m\u001b[0m\u001b[0;34m\u001b[0m\u001b[0m\n\u001b[0;32m----> 5\u001b[0;31m     \u001b[0mresponse\u001b[0m \u001b[0;34m=\u001b[0m \u001b[0mrequests\u001b[0m\u001b[0;34m.\u001b[0m\u001b[0mget\u001b[0m\u001b[0;34m(\u001b[0m\u001b[0;34mf\"{OBF_API_URL}/{elefan_product['code']}.json\"\u001b[0m\u001b[0;34m)\u001b[0m\u001b[0;34m\u001b[0m\u001b[0;34m\u001b[0m\u001b[0m\n\u001b[0m\u001b[1;32m      6\u001b[0m     \u001b[0;32mif\u001b[0m \u001b[0mresponse\u001b[0m\u001b[0;34m.\u001b[0m\u001b[0mstatus_code\u001b[0m \u001b[0;34m==\u001b[0m \u001b[0;36m200\u001b[0m\u001b[0;34m:\u001b[0m\u001b[0;34m\u001b[0m\u001b[0;34m\u001b[0m\u001b[0m\n\u001b[1;32m      7\u001b[0m         \u001b[0mfound\u001b[0m \u001b[0;34m+=\u001b[0m \u001b[0;36m1\u001b[0m\u001b[0;34m\u001b[0m\u001b[0;34m\u001b[0m\u001b[0m\n",
      "\u001b[0;31mNameError\u001b[0m: name 'elefan_product' is not defined"
     ]
    }
   ],
   "source": [
    "print(f\"Lien avec OBF (pour les {len(elefan_product_actifs_ean_filtered_list)} articles filtrés)\")\n",
    "\n",
    "found = 0\n",
    "for index, elefan__product in enumerate(elefan_product_actifs_ean_filtered_list):\n",
    "    response = requests.get(f\"{OBF_API_URL}/{elefan_product['code']}.json\")\n",
    "    if response.status_code == 200:\n",
    "        found += 1\n",
    "        elefan_product_actifs_ean_filtered_list[index]['OFF'] = response.json()\n",
    "    if (index % 10) == 0:\n",
    "        time.sleep(1)\n",
    "    if (index % 50) == 0:\n",
    "        print(f\"progress: {index}...\")\n",
    "\n",
    "print(\"Trouvés\", found, \"/\", len(elefan_product_actifs_ean_filtered_list))"
   ]
  },
  {
   "cell_type": "code",
   "execution_count": null,
   "id": "7106244b",
   "metadata": {},
   "outputs": [],
   "source": []
  }
 ],
 "metadata": {
  "kernelspec": {
   "display_name": "Python 3 (ipykernel)",
   "language": "python",
   "name": "python3"
  },
  "language_info": {
   "codemirror_mode": {
    "name": "ipython",
    "version": 3
   },
   "file_extension": ".py",
   "mimetype": "text/x-python",
   "name": "python",
   "nbconvert_exporter": "python",
   "pygments_lexer": "ipython3",
   "version": "3.10.12"
  }
 },
 "nbformat": 4,
 "nbformat_minor": 5
}
