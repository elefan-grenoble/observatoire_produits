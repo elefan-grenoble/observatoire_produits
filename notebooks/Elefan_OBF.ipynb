{
 "cells": [
  {
   "cell_type": "code",
   "execution_count": 8,
   "id": "1985f2da",
   "metadata": {},
   "outputs": [],
   "source": [
    "import os\n",
    "import time\n",
    "import requests\n",
    "\n",
    "ELEFAN_PRODUCT_API_URL = os.environ.get(\"API_URL\")\n",
    "OFF_API_URL = \"https://fr.openbeautyfacts.org/api/v2/product\"\n",
    "OFF_KEY = \"OBF\"\n",
    "\n",
    "ELEFAN_HYGIENE_FAMILLE_CODE_TO_INCLUDE = [\n",
    "    21,  # bebe (inclus nourriture...)\n",
    "    22,  # hygiène, beauté\n",
    "    25,  # santé\n",
    "]"
   ]
  },
  {
   "cell_type": "code",
   "execution_count": 9,
   "id": "c09a8adb",
   "metadata": {},
   "outputs": [
    {
     "name": "stdout",
     "output_type": "stream",
     "text": [
      "Elefan Grenoble\n",
      "Nombre d'articles (dans KASO) : 2106\n",
      "Nombre d'articles actifs (status = ACTIF dans KASO) : 1456\n",
      "Nombre d'articles actifs avec un code-barres EAN (8 ou 13 chiffres) : 1124\n",
      "Nombre d'articles actifs avec un code-barres EAN et filtrés (catégories) : 137\n"
     ]
    }
   ],
   "source": [
    "\"\"\"\n",
    "Récupérer les produits depuis Elefan (via l'API)\n",
    "\"\"\"\n",
    "print(\"Elefan Grenoble\")\n",
    "elefan_product_list = list()\n",
    "\n",
    "response = requests.get(ELEFAN_PRODUCT_API_URL)\n",
    "elefan_product_list = response.json()\n",
    "print(\"Nombre d'articles (dans KASO) :\", len(elefan_product_list))\n",
    "# print(elefan_product_list[0])\n",
    "\n",
    "elefan_product_actifs_list = [p for p in elefan_product_list if p['status'] == 'ACTIF']\n",
    "print(\"Nombre d'articles actifs (status = ACTIF dans KASO) :\", len(elefan_product_actifs_list))\n",
    "\n",
    "elefan_product_actifs_ean_list = [p for p in elefan_product_actifs_list if (len(str(p['code'])) in [8, 13])]\n",
    "print(\"Nombre d'articles actifs avec un code-barres EAN (8 ou 13 chiffres) :\", len(elefan_product_actifs_ean_list))\n",
    "\n",
    "elefan_product_actifs_ean_filtered_list = [p for p in elefan_product_actifs_ean_list if p['famille']['code'] in ELEFAN_HYGIENE_FAMILLE_CODE_TO_INCLUDE]\n",
    "print(\"Nombre d'articles actifs avec un code-barres EAN et filtrés (catégories) :\", len(elefan_product_actifs_ean_filtered_list))"
   ]
  },
  {
   "cell_type": "code",
   "execution_count": 10,
   "id": "270040ab",
   "metadata": {},
   "outputs": [
    {
     "name": "stdout",
     "output_type": "stream",
     "text": [
      "Lien avec OBF (pour les 137 articles filtrés)\n",
      "progress: 0...\n",
      "progress: 50...\n",
      "progress: 100...\n",
      "Trouvés 26 / 137\n"
     ]
    }
   ],
   "source": [
    "print(f\"Lien avec {OFF_KEY} (pour les {len(elefan_product_actifs_ean_filtered_list)} articles filtrés)\")\n",
    "\n",
    "found = 0\n",
    "for index, elefan_product in enumerate(elefan_product_actifs_ean_filtered_list):\n",
    "    response = requests.get(f\"{OFF_API_URL}/{elefan_product['code']}.json\")\n",
    "    if response.status_code == 200:\n",
    "        found += 1\n",
    "        elefan_product_actifs_ean_filtered_list[index][OFF_KEY] = response.json()\n",
    "    if (index % 10) == 0:\n",
    "        time.sleep(1)\n",
    "    if (index % 50) == 0:\n",
    "        print(f\"progress: {index}...\")\n",
    "\n",
    "print(\"Trouvés\", found, \"/\", len(elefan_product_actifs_ean_filtered_list))"
   ]
  },
  {
   "cell_type": "code",
   "execution_count": 12,
   "id": "a2d49ebf",
   "metadata": {},
   "outputs": [
    {
     "name": "stdout",
     "output_type": "stream",
     "text": [
      "Sur les 26 produits trouvés dans OFF...\n",
      "{'code': 3517360005509, 'designation': 'DEODORANT FRAICHEUR MENTHE'}\n",
      "{'code': 3517360005516, 'designation': 'DEODORANT DOUCEUR LAIT D ANESSE'}\n",
      "{'code': 3517360011418, 'designation': 'SAVON OLIVE NIGELLE'}\n",
      "{'code': 3517360011449, 'designation': 'GEL DOUCHE DOUCEUR AMANDE - PECHE'}\n",
      "{'code': 3517360013757, 'designation': 'GEL HYDRATATION ALOE VERA'}\n",
      "{'code': 3517360016994, 'designation': 'GEL LAVANT TRES DOUX'}\n",
      "{'code': 3517360017076, 'designation': 'DEODORANT PEAUX SENSIBLES ALOE VERA'}\n",
      "{'code': 3662217000630, 'designation': 'FOND DE TEINT NUDE'}\n",
      "{'code': 3662217000784, 'designation': 'CRAYON YEUX NOIR'}\n",
      "{'code': 3662217001729, 'designation': 'CREME DE JOUR PEAUX NORMALES A MIXTES'}\n",
      "{'code': 3662217001774, 'designation': 'LAIT CORPOREL'}\n",
      "{'code': 3662217002283, 'designation': 'LOTION MICELLAIRE'}\n",
      "{'code': 3662217003891, 'designation': 'BAUME A LEVRE'}\n",
      "{'code': 3662217003983, 'designation': 'CRAYON YEUX BRONZE CUIVRE'}\n",
      "{'code': 3662217004805, 'designation': 'FOND DE TEINT MIEL'}\n",
      "{'code': 3662217004867, 'designation': 'CREME VISAGE ET CORPS'}\n",
      "{'code': 3662217004881, 'designation': 'GEL DOUCHE DOUCEUR D ABRICOT'}\n",
      "{'code': 3662217005147, 'designation': 'CREME SOIN CONTOUR YEUX ET LEVRES'}\n",
      "{'code': 3662217006182, 'designation': 'MASQUE VISAGE PURIFIANT'}\n",
      "{'code': 3662217006250, 'designation': 'GEL NETTOYANT VISAGE'}\n",
      "{'code': 3662217006670, 'designation': 'SHAMPOING TOUS TYPES DE CHEVEUX'}\n",
      "{'code': 3662217006847, 'designation': 'BAUME APRES RASAGE'}\n",
      "{'code': 3662217007059, 'designation': 'DENTIFRICE'}\n",
      "{'code': 3760138836434, 'designation': 'TALC EN POUDRE'}\n",
      "{'code': 3760138839251, 'designation': 'DENTIFRICE EN POUDRE'}\n",
      "{'code': 4046871002992, 'designation': 'DISQUE A DEMAQUILLER PAR 70'}\n"
     ]
    }
   ],
   "source": [
    "elefan_product_actifs_ean_filtered_found_list = [p for p in elefan_product_actifs_ean_filtered_list if OFF_KEY in p]\n",
    "print(f\"Sur les {len(elefan_product_actifs_ean_filtered_found_list)} produits trouvés dans {OFF_KEY}...\")\n",
    "\n",
    "for product in elefan_product_actifs_ean_filtered_found_list:\n",
    "    print({key: product[key] for key in [\"code\", \"designation\"]})"
   ]
  },
  {
   "cell_type": "code",
   "execution_count": null,
   "id": "ece457f9",
   "metadata": {},
   "outputs": [],
   "source": []
  }
 ],
 "metadata": {
  "kernelspec": {
   "display_name": "Python 3 (ipykernel)",
   "language": "python",
   "name": "python3"
  },
  "language_info": {
   "codemirror_mode": {
    "name": "ipython",
    "version": 3
   },
   "file_extension": ".py",
   "mimetype": "text/x-python",
   "name": "python",
   "nbconvert_exporter": "python",
   "pygments_lexer": "ipython3",
   "version": "3.10.12"
  }
 },
 "nbformat": 4,
 "nbformat_minor": 5
}
