{
 "cells": [
  {
   "cell_type": "code",
   "execution_count": 1,
   "id": "5ed21bc1",
   "metadata": {},
   "outputs": [],
   "source": [
    "import os\n",
    "import time\n",
    "import requests\n",
    "\n",
    "ELEFAN_PRODUCT_API_URL = os.environ.get(\"API_URL\")\n",
    "OFF_API_URL = \"https://fr.openproductsfacts.org/api/v2/product\"\n",
    "OFF_KEY = \"OPF\"\n",
    "\n",
    "ELEFAN_PRODUCTS_FAMILLE_CODE_TO_INCLUDE = [\n",
    "    24,  # cuisine\n",
    "    31,  # journaux\n",
    "    41,  # maison\n",
    "    42,  # papeterie\n",
    "    43,  # textile\n",
    "    44,  # animalerie\n",
    "    45,  # jardinerie\n",
    "    90,  # jeux\n",
    "]"
   ]
  },
  {
   "cell_type": "code",
   "execution_count": 2,
   "id": "5b040c98",
   "metadata": {},
   "outputs": [
    {
     "name": "stdout",
     "output_type": "stream",
     "text": [
      "Elefan Grenoble\n",
      "Nombre d'articles (dans KASO) : 2106\n",
      "Nombre d'articles actifs (status = ACTIF dans KASO) : 1456\n",
      "Nombre d'articles actifs avec un code-barres EAN (8 ou 13 chiffres) : 1124\n",
      "Nombre d'articles actifs avec un code-barres EAN et filtrés (catégories) : 189\n"
     ]
    }
   ],
   "source": [
    "\"\"\"\n",
    "Récupérer les produits depuis Elefan (via l'API)\n",
    "\"\"\"\n",
    "print(\"Elefan Grenoble\")\n",
    "elefan_product_list = list()\n",
    "\n",
    "response = requests.get(ELEFAN_PRODUCT_API_URL)\n",
    "elefan_product_list = response.json()\n",
    "print(\"Nombre d'articles (dans KASO) :\", len(elefan_product_list))\n",
    "# print(elefan_product_list[0])\n",
    "\n",
    "elefan_product_actifs_list = [p for p in elefan_product_list if p['status'] == 'ACTIF']\n",
    "print(\"Nombre d'articles actifs (status = ACTIF dans KASO) :\", len(elefan_product_actifs_list))\n",
    "\n",
    "elefan_product_actifs_ean_list = [p for p in elefan_product_actifs_list if (len(str(p['code'])) in [8, 13])]\n",
    "print(\"Nombre d'articles actifs avec un code-barres EAN (8 ou 13 chiffres) :\", len(elefan_product_actifs_ean_list))\n",
    "\n",
    "elefan_product_actifs_ean_filtered_list = [p for p in elefan_product_actifs_ean_list if p['famille']['code'] in ELEFAN_PRODUCTS_FAMILLE_CODE_TO_INCLUDE]\n",
    "print(\"Nombre d'articles actifs avec un code-barres EAN et filtrés (catégories) :\", len(elefan_product_actifs_ean_filtered_list))"
   ]
  },
  {
   "cell_type": "code",
   "execution_count": 3,
   "id": "ad043570",
   "metadata": {},
   "outputs": [
    {
     "name": "stdout",
     "output_type": "stream",
     "text": [
      "Lien avec OPF (pour les 189 articles filtrés)\n",
      "progress: 0...\n",
      "progress: 50...\n",
      "progress: 100...\n",
      "progress: 150...\n",
      "Trouvés 2 / 189\n"
     ]
    }
   ],
   "source": [
    "print(f\"Lien avec {OFF_KEY} (pour les {len(elefan_product_actifs_ean_filtered_list)} articles filtrés)\")\n",
    "\n",
    "found = 0\n",
    "for index, elefan_product in enumerate(elefan_product_actifs_ean_filtered_list):\n",
    "    response = requests.get(f\"{OFF_API_URL}/{elefan_product['code']}.json\")\n",
    "    if response.status_code == 200:\n",
    "        found += 1\n",
    "        elefan_product_actifs_ean_filtered_list[index][OFF_KEY] = response.json()\n",
    "    if (index % 10) == 0:\n",
    "        time.sleep(1)\n",
    "    if (index % 50) == 0:\n",
    "        print(f\"progress: {index}...\")\n",
    "\n",
    "print(\"Trouvés\", found, \"/\", len(elefan_product_actifs_ean_filtered_list))"
   ]
  },
  {
   "cell_type": "code",
   "execution_count": 4,
   "id": "546e291e",
   "metadata": {},
   "outputs": [
    {
     "name": "stdout",
     "output_type": "stream",
     "text": [
      "Sur les 2 produits trouvés dans fOPF...\n",
      "{'code': 40267654, 'designation': 'COLLE BATON Ť UHU ť'}\n",
      "{'code': 3760147600064, 'designation': 'JOUECABOIS 200 PCS'}\n"
     ]
    }
   ],
   "source": [
    "elefan_product_actifs_ean_filtered_found_list = [p for p in elefan_product_actifs_ean_filtered_list if OFF_KEY in p]\n",
    "print(f\"Sur les {len(elefan_product_actifs_ean_filtered_found_list)} produits trouvés dans {OFF_KEY}...\")\n",
    "\n",
    "for product in elefan_product_actifs_ean_filtered_found_list:\n",
    "    print({key: product[key] for key in [\"code\", \"designation\"]})"
   ]
  },
  {
   "cell_type": "code",
   "execution_count": null,
   "id": "841f9192",
   "metadata": {},
   "outputs": [],
   "source": []
  }
 ],
 "metadata": {
  "kernelspec": {
   "display_name": "Python 3 (ipykernel)",
   "language": "python",
   "name": "python3"
  },
  "language_info": {
   "codemirror_mode": {
    "name": "ipython",
    "version": 3
   },
   "file_extension": ".py",
   "mimetype": "text/x-python",
   "name": "python",
   "nbconvert_exporter": "python",
   "pygments_lexer": "ipython3",
   "version": "3.10.12"
  }
 },
 "nbformat": 4,
 "nbformat_minor": 5
}
